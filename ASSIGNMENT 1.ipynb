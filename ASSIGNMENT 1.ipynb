{
    "cells": [
        {
            "cell_type": "markdown",
            "metadata": {},
            "source": "# My Jupyter Notebook on IBM Watson Studio"
        },
        {
            "cell_type": "markdown",
            "metadata": {},
            "source": "**ABINAYAA**"
        },
        {
            "cell_type": "markdown",
            "metadata": {},
            "source": "STUDENT"
        },
        {
            "cell_type": "markdown",
            "metadata": {},
            "source": "*I AM INTERESTED IN DATASCIENCE BECAUSE DATA IS THE HEART OF EVERY INDUSTRY.I AM LEARNING DATA SCIENCE TO KNOW HOW TO WORK WITH THESE DATA EFFECTIVELY*"
        },
        {
            "cell_type": "markdown",
            "metadata": {},
            "source": "### This Python Program  find Area of a Triangle using base and height"
        },
        {
            "cell_type": "code",
            "execution_count": 7,
            "metadata": {},
            "outputs": [
                {
                    "name": "stdout",
                    "output_type": "stream",
                    "text": "Please Enter the Base of a Triangle: 5\nPlease Enter the Height of a Triangle: 9\nThe Area of a Triangle using 5.0 and 9.0  =  22.5\n"
                }
            ],
            "source": "base = float(input('Please Enter the Base of a Triangle: '))\nheight = float(input('Please Enter the Height of a Triangle: '))\n\narea = (base * height) / 2\n\nprint(\"The Area of a Triangle using\", base, \"and\", height, \" = \", area)"
        },
        {
            "cell_type": "markdown",
            "metadata": {},
            "source": "bulleted list\n* base\n* height\n    * base and height multiplied to get area\n    "
        },
        {
            "cell_type": "markdown",
            "metadata": {},
            "source": "| NO     | NAME          | MEMBER|\n| ------ |:-------------:| -----:|\n| 1      | JOHN          |    Y  |\n| 2      | ABI           |    N  |\n| 3      | KEVIN         |    Y  |"
        },
        {
            "cell_type": "markdown",
            "metadata": {},
            "source": "---"
        }
    ],
    "metadata": {
        "kernelspec": {
            "display_name": "Python 3.8",
            "language": "python",
            "name": "python3"
        },
        "language_info": {
            "codemirror_mode": {
                "name": "ipython",
                "version": 3
            },
            "file_extension": ".py",
            "mimetype": "text/x-python",
            "name": "python",
            "nbconvert_exporter": "python",
            "pygments_lexer": "ipython3",
            "version": "3.8.10"
        }
    },
    "nbformat": 4,
    "nbformat_minor": 1
}